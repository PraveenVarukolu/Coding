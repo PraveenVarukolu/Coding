{
 "cells": [
  {
   "cell_type": "code",
   "execution_count": 1,
   "metadata": {},
   "outputs": [
    {
     "name": "stdout",
     "output_type": "stream",
     "text": [
      "[10, 20, 30, 40, 50]\n"
     ]
    }
   ],
   "source": [
    "# OOPS\n",
    "# Everything is an object.\n",
    "l=[10,20,30,40]\n",
    "l.append(50)\n",
    "print(l)"
   ]
  },
  {
   "cell_type": "markdown",
   "metadata": {},
   "source": [
    "#student object\n",
    "#student.talk()\n",
    "#student.sleep()\n",
    "#student.eat()\n",
    "\n",
    "* class\n",
    "* object\n",
    "* reference variable"
   ]
  },
  {
   "cell_type": "code",
   "execution_count": 2,
   "metadata": {},
   "outputs": [],
   "source": [
    "# for a class any number of objects can be created\n",
    "# reference variable can be used to perform operations on the objects\n",
    "# class is defined by using keyword \"class\"\n",
    "# class classname:"
   ]
  },
  {
   "cell_type": "code",
   "execution_count": 3,
   "metadata": {},
   "outputs": [],
   "source": [
    "class Student:\n",
    "    '''Here Im doing oops cocept in python'''"
   ]
  },
  {
   "cell_type": "code",
   "execution_count": 4,
   "metadata": {},
   "outputs": [
    {
     "name": "stdout",
     "output_type": "stream",
     "text": [
      "Here Im doing oops cocept in python\n"
     ]
    }
   ],
   "source": [
    "print(Student.__doc__)"
   ]
  },
  {
   "cell_type": "code",
   "execution_count": 5,
   "metadata": {},
   "outputs": [
    {
     "name": "stdout",
     "output_type": "stream",
     "text": [
      "Help on class Student in module __main__:\n",
      "\n",
      "class Student(builtins.object)\n",
      " |  Here Im doing oops cocept in python\n",
      " |  \n",
      " |  Data descriptors defined here:\n",
      " |  \n",
      " |  __dict__\n",
      " |      dictionary for instance variables (if defined)\n",
      " |  \n",
      " |  __weakref__\n",
      " |      list of weak references to the object (if defined)\n",
      "\n"
     ]
    }
   ],
   "source": [
    "help(Student)"
   ]
  },
  {
   "cell_type": "code",
   "execution_count": 6,
   "metadata": {},
   "outputs": [
    {
     "name": "stdout",
     "output_type": "stream",
     "text": [
      "Hello I am: praveen\n",
      "My age: 25\n",
      "My marks: 100\n"
     ]
    }
   ],
   "source": [
    "class Students:\n",
    "    '''Iam student of praxis'''\n",
    "    def __init__(self):\n",
    "        self.name=\"praveen\"\n",
    "        self.age=25\n",
    "        self.marks=100\n",
    "    def talk(self):\n",
    "        print('Hello I am:',self.name)\n",
    "        print('My age:',self.age)\n",
    "        print('My marks:',self.marks)\n",
    "# in this program class is defined and in that class 2 methods are defined\n",
    "s=Students()\n",
    "s.talk()"
   ]
  },
  {
   "cell_type": "code",
   "execution_count": 7,
   "metadata": {},
   "outputs": [],
   "source": [
    "# functions which are declared outside of the class: functions\n",
    "# functions which are declared inside of the class: methods"
   ]
  },
  {
   "cell_type": "code",
   "execution_count": 8,
   "metadata": {},
   "outputs": [
    {
     "name": "stdout",
     "output_type": "stream",
     "text": [
      "Hello I am: praveen\n",
      "My age: 25\n",
      "My marks: 100\n"
     ]
    }
   ],
   "source": [
    "class Students:\n",
    "    '''Iam student of praxis'''\n",
    "    def __init__(self):\n",
    "        self.name=\"praveen\"\n",
    "        self.age=25\n",
    "        self.marks=100\n",
    "    def talk(self):\n",
    "        print('Hello I am:',self.name)\n",
    "        print('My age:',self.age)\n",
    "        print('My marks:',self.marks)\n",
    "# in this program class is defined and in that class 2 methods are defined\n",
    "s=Students()\n",
    "s.talk()"
   ]
  },
  {
   "cell_type": "code",
   "execution_count": 9,
   "metadata": {},
   "outputs": [
    {
     "name": "stdout",
     "output_type": "stream",
     "text": [
      "Hello I am: mallika\n",
      "My age: 43\n",
      "My marks: 56\n",
      "Hello I am: Arjun\n",
      "My age: 25\n",
      "My marks: 79\n"
     ]
    }
   ],
   "source": [
    "class Stdents:\n",
    "    '''Iam student of praxis'''\n",
    "    def __init__(self,name,age,marks):   # it is a constructor \"__init__():\"\n",
    "        self.name=name\n",
    "        self.age=age\n",
    "        self.marks=marks\n",
    "    def talk(self):\n",
    "        print('Hello I am:',self.name)\n",
    "        print('My age:',self.age)\n",
    "        print('My marks:',self.marks)\n",
    "s1=Stdents('mallika',43,56)\n",
    "s1.talk()\n",
    "s2=Stdents('Arjun',25,79)\n",
    "s2.talk()"
   ]
  },
  {
   "cell_type": "code",
   "execution_count": 10,
   "metadata": {},
   "outputs": [
    {
     "name": "stdout",
     "output_type": "stream",
     "text": [
      "constructor\n"
     ]
    }
   ],
   "source": [
    "class hero:\n",
    "    def __init__(self): \n",
    "# \"__init__\" self is a default variable--->implicit variable which is always pointing to current object\n",
    "        print('constructor')\n",
    "s=hero()\n",
    "\n",
    "        "
   ]
  },
  {
   "cell_type": "code",
   "execution_count": 11,
   "metadata": {},
   "outputs": [
    {
     "name": "stdout",
     "output_type": "stream",
     "text": [
      "<class '__main__.hero'>\n"
     ]
    }
   ],
   "source": [
    "class hero:\n",
    "    def __init__(self): \n",
    "        print(type(self))\n",
    "s=hero()\n",
    "\n",
    "        "
   ]
  },
  {
   "cell_type": "code",
   "execution_count": 12,
   "metadata": {},
   "outputs": [
    {
     "name": "stdout",
     "output_type": "stream",
     "text": [
      "2162198014080\n",
      "2162198014080\n"
     ]
    }
   ],
   "source": [
    "class hero:\n",
    "    def __init__(self):\n",
    "        print(id(self))\n",
    "s=hero()\n",
    "print(id(s))"
   ]
  },
  {
   "cell_type": "code",
   "execution_count": 13,
   "metadata": {},
   "outputs": [
    {
     "name": "stdout",
     "output_type": "stream",
     "text": [
      "hero Name: ram\n",
      "hero rollno: 100\n"
     ]
    }
   ],
   "source": [
    "class hero:\n",
    "    def __init__(self,name,rollno):\n",
    "        self.name=name\n",
    "        self.rollno=rollno\n",
    "s=hero('ram',100)\n",
    "print('hero Name:',s.name)\n",
    "print('hero rollno:',s.rollno)"
   ]
  },
  {
   "cell_type": "code",
   "execution_count": 14,
   "metadata": {},
   "outputs": [
    {
     "name": "stdout",
     "output_type": "stream",
     "text": [
      "constructor\n",
      "constructor\n",
      "constructor\n"
     ]
    }
   ],
   "source": [
    "class Test:\n",
    "    def __init__(self):\n",
    "        print('constructor')\n",
    "t1=Test()\n",
    "t2=Test()\n",
    "t3=Test()"
   ]
  },
  {
   "cell_type": "code",
   "execution_count": 15,
   "metadata": {},
   "outputs": [
    {
     "name": "stdout",
     "output_type": "stream",
     "text": [
      "name: sunny\n",
      "rollno: 100\n",
      "marks: 100\n",
      "name: bunny\n",
      "rollno: 101\n",
      "marks: 100\n"
     ]
    }
   ],
   "source": [
    "class room:\n",
    "    def __init__(self,name,rollno,marks):\n",
    "        self.name=name\n",
    "        self.rollno=rollno\n",
    "        self.marks=marks\n",
    "    def info(self):\n",
    "        print('name:',self.name)\n",
    "        print('rollno:',self.rollno)\n",
    "        print('marks:',self.marks)\n",
    "\n",
    "a1=room('sunny',100,100)\n",
    "a1.info()\n",
    "a2=room('bunny',101,100)\n",
    "a2.info()"
   ]
  },
  {
   "cell_type": "code",
   "execution_count": 21,
   "metadata": {},
   "outputs": [
    {
     "name": "stdout",
     "output_type": "stream",
     "text": [
      "white 5.11\n",
      "running\n"
     ]
    }
   ],
   "source": [
    "class Human:\n",
    "    color='white'\n",
    "    height=5.11\n",
    "    def run(self):\n",
    "        print('running')\n",
    "    def walk(self):\n",
    "        print('walking')\n",
    "Praveen= Human()\n",
    "print(Praveen.color,Praveen.height)\n",
    "Praveen.run()"
   ]
  },
  {
   "cell_type": "code",
   "execution_count": 27,
   "metadata": {},
   "outputs": [
    {
     "name": "stdout",
     "output_type": "stream",
     "text": [
      "white 5.11\n",
      "running\n"
     ]
    }
   ],
   "source": [
    "class Human:\n",
    "    def __init__(self,c,h):     # constructor\n",
    "        self.color=c\n",
    "        self.height=h\n",
    "    def run(self):\n",
    "        print('running')\n",
    "    def walk(self):\n",
    "        print('walking')\n",
    "Praveen= Human('white',5.11)\n",
    "print(Praveen.color,Praveen.height)\n",
    "Praveen.run()"
   ]
  },
  {
   "cell_type": "code",
   "execution_count": 34,
   "metadata": {},
   "outputs": [
    {
     "name": "stdout",
     "output_type": "stream",
     "text": [
      "10 100\n",
      "base class\n",
      "20 200\n",
      "derived class\n"
     ]
    }
   ],
   "source": [
    "class Baseclass:\n",
    "    a=10\n",
    "    b=100\n",
    "    def display(self):\n",
    "        print('base class')\n",
    "class Derivedclass:\n",
    "    c=20\n",
    "    d=200\n",
    "    def show(self):\n",
    "        print('derived class')\n",
    "bobject=Baseclass()\n",
    "print(bobject.a,bobject.b)\n",
    "bobject.display()\n",
    "dobject=Derivedclass()\n",
    "print(dobject.c,dobject.d)\n",
    "dobject.show()"
   ]
  },
  {
   "cell_type": "code",
   "execution_count": 43,
   "metadata": {},
   "outputs": [
    {
     "name": "stdout",
     "output_type": "stream",
     "text": [
      "20 200\n",
      "base class\n",
      "10 100\n",
      "derived class\n",
      "20 10\n"
     ]
    }
   ],
   "source": [
    "class Baseclass:                  ## parent class\n",
    "    a=10\n",
    "    b=100\n",
    "    def display(self):\n",
    "        print('base class')\n",
    "class Derivedclass(Baseclass):    ## inheritance concept  # child class\n",
    "    c=20\n",
    "    d=200\n",
    "    def show(self):\n",
    "        print('derived class')\n",
    "dobject=Derivedclass()\n",
    "print(dobject.c,dobject.d)\n",
    "dobject.display()\n",
    "print(dobject.a,dobject.b)\n",
    "dobject.show()\n",
    "print(dobject.c,dobject.a)\n",
    "\n",
    "\n",
    "## u can get base class from the deried class but you cannot get vice vers"
   ]
  },
  {
   "cell_type": "code",
   "execution_count": 50,
   "metadata": {},
   "outputs": [],
   "source": [
    "class Parent:\n",
    "    def pdisplay(self):\n",
    "        print('parent class')\n",
    "class Son(Parent):\n",
    "    def sdisplay(self):\n",
    "        print('son class')\n",
    "class Daughter(Parent):\n",
    "    def ddisplay(self):\n",
    "        print('daughter class')\n"
   ]
  },
  {
   "cell_type": "code",
   "execution_count": 51,
   "metadata": {},
   "outputs": [
    {
     "name": "stdout",
     "output_type": "stream",
     "text": [
      "son class\n"
     ]
    }
   ],
   "source": [
    "s=Son()\n",
    "s.sdisplay()"
   ]
  },
  {
   "cell_type": "code",
   "execution_count": 52,
   "metadata": {},
   "outputs": [
    {
     "name": "stdout",
     "output_type": "stream",
     "text": [
      "daughter class\n"
     ]
    }
   ],
   "source": [
    "d=Daughter()\n",
    "d.ddisplay()"
   ]
  },
  {
   "cell_type": "code",
   "execution_count": 53,
   "metadata": {},
   "outputs": [
    {
     "name": "stdout",
     "output_type": "stream",
     "text": [
      "700\n",
      "400\n",
      "600\n"
     ]
    }
   ],
   "source": [
    "class demo: # Method Overloading compile time polymorphism\n",
    "    def add(self,a,b=500,c=100):\n",
    "        print(a+b+c)\n",
    "obj=demo()\n",
    "obj.add(100)\n",
    "obj.add(100,200)\n",
    "obj.add(100,200,300)"
   ]
  },
  {
   "cell_type": "code",
   "execution_count": 55,
   "metadata": {},
   "outputs": [
    {
     "name": "stdout",
     "output_type": "stream",
     "text": [
      "bike\n"
     ]
    }
   ],
   "source": [
    "class Parent:       # Method Overriding  run time polymorphism\n",
    "    def transport(self):\n",
    "        print('cycle')\n",
    "class Child(Parent):\n",
    "    def transport(self):\n",
    "        print('bike')\n",
    "c=Child()\n",
    "c.transport()"
   ]
  },
  {
   "cell_type": "code",
   "execution_count": 60,
   "metadata": {},
   "outputs": [],
   "source": [
    "from abc import ABC,abstractmethod\n",
    "class AbstractDemo(ABC):\n",
    "    @abstractmethod\n",
    "    def hello(self):\n",
    "        None\n",
    "    @abstractmethod\n",
    "    def world(self):\n",
    "        None\n",
    "class SBI(AbstractDemo):\n",
    "    def hello(self):\n",
    "        print('jjjjj')\n",
    "    def world(self):\n",
    "        print('jjjjj')\n",
    "obj=SBI()"
   ]
  },
  {
   "cell_type": "code",
   "execution_count": 62,
   "metadata": {},
   "outputs": [
    {
     "name": "stdout",
     "output_type": "stream",
     "text": [
      "jjjjj\n"
     ]
    }
   ],
   "source": [
    "obj.hello()"
   ]
  },
  {
   "cell_type": "code",
   "execution_count": 65,
   "metadata": {},
   "outputs": [
    {
     "data": {
      "text/plain": [
       "'C:\\\\Users\\\\praveen\\\\OneDrive\\\\Desktop\\\\Practice'"
      ]
     },
     "execution_count": 65,
     "metadata": {},
     "output_type": "execute_result"
    }
   ],
   "source": [
    "import os\n",
    "os.getcwd()"
   ]
  },
  {
   "cell_type": "code",
   "execution_count": 69,
   "metadata": {},
   "outputs": [
    {
     "data": {
      "text/plain": [
       "['DirEntry',\n",
       " 'F_OK',\n",
       " 'MutableMapping',\n",
       " 'O_APPEND',\n",
       " 'O_BINARY',\n",
       " 'O_CREAT',\n",
       " 'O_EXCL',\n",
       " 'O_NOINHERIT',\n",
       " 'O_RANDOM',\n",
       " 'O_RDONLY',\n",
       " 'O_RDWR',\n",
       " 'O_SEQUENTIAL',\n",
       " 'O_SHORT_LIVED',\n",
       " 'O_TEMPORARY',\n",
       " 'O_TEXT',\n",
       " 'O_TRUNC',\n",
       " 'O_WRONLY',\n",
       " 'P_DETACH',\n",
       " 'P_NOWAIT',\n",
       " 'P_NOWAITO',\n",
       " 'P_OVERLAY',\n",
       " 'P_WAIT',\n",
       " 'PathLike',\n",
       " 'R_OK',\n",
       " 'SEEK_CUR',\n",
       " 'SEEK_END',\n",
       " 'SEEK_SET',\n",
       " 'TMP_MAX',\n",
       " 'W_OK',\n",
       " 'X_OK',\n",
       " '_AddedDllDirectory',\n",
       " '_Environ',\n",
       " '__all__',\n",
       " '__builtins__',\n",
       " '__cached__',\n",
       " '__doc__',\n",
       " '__file__',\n",
       " '__loader__',\n",
       " '__name__',\n",
       " '__package__',\n",
       " '__spec__',\n",
       " '_check_methods',\n",
       " '_execvpe',\n",
       " '_exists',\n",
       " '_exit',\n",
       " '_fspath',\n",
       " '_get_exports_list',\n",
       " '_putenv',\n",
       " '_unsetenv',\n",
       " '_wrap_close',\n",
       " 'abc',\n",
       " 'abort',\n",
       " 'access',\n",
       " 'add_dll_directory',\n",
       " 'altsep',\n",
       " 'chdir',\n",
       " 'chmod',\n",
       " 'close',\n",
       " 'closerange',\n",
       " 'cpu_count',\n",
       " 'curdir',\n",
       " 'defpath',\n",
       " 'device_encoding',\n",
       " 'devnull',\n",
       " 'dup',\n",
       " 'dup2',\n",
       " 'environ',\n",
       " 'error',\n",
       " 'execl',\n",
       " 'execle',\n",
       " 'execlp',\n",
       " 'execlpe',\n",
       " 'execv',\n",
       " 'execve',\n",
       " 'execvp',\n",
       " 'execvpe',\n",
       " 'extsep',\n",
       " 'fdopen',\n",
       " 'fsdecode',\n",
       " 'fsencode',\n",
       " 'fspath',\n",
       " 'fstat',\n",
       " 'fsync',\n",
       " 'ftruncate',\n",
       " 'get_exec_path',\n",
       " 'get_handle_inheritable',\n",
       " 'get_inheritable',\n",
       " 'get_terminal_size',\n",
       " 'getcwd',\n",
       " 'getcwdb',\n",
       " 'getenv',\n",
       " 'getlogin',\n",
       " 'getpid',\n",
       " 'getppid',\n",
       " 'isatty',\n",
       " 'kill',\n",
       " 'linesep',\n",
       " 'link',\n",
       " 'listdir',\n",
       " 'lseek',\n",
       " 'lstat',\n",
       " 'makedirs',\n",
       " 'mkdir',\n",
       " 'name',\n",
       " 'open',\n",
       " 'pardir',\n",
       " 'path',\n",
       " 'pathsep',\n",
       " 'pipe',\n",
       " 'popen',\n",
       " 'putenv',\n",
       " 'read',\n",
       " 'readlink',\n",
       " 'remove',\n",
       " 'removedirs',\n",
       " 'rename',\n",
       " 'renames',\n",
       " 'replace',\n",
       " 'rmdir',\n",
       " 'scandir',\n",
       " 'sep',\n",
       " 'set_handle_inheritable',\n",
       " 'set_inheritable',\n",
       " 'spawnl',\n",
       " 'spawnle',\n",
       " 'spawnv',\n",
       " 'spawnve',\n",
       " 'st',\n",
       " 'startfile',\n",
       " 'stat',\n",
       " 'stat_result',\n",
       " 'statvfs_result',\n",
       " 'strerror',\n",
       " 'supports_bytes_environ',\n",
       " 'supports_dir_fd',\n",
       " 'supports_effective_ids',\n",
       " 'supports_fd',\n",
       " 'supports_follow_symlinks',\n",
       " 'symlink',\n",
       " 'sys',\n",
       " 'system',\n",
       " 'terminal_size',\n",
       " 'times',\n",
       " 'times_result',\n",
       " 'truncate',\n",
       " 'umask',\n",
       " 'uname_result',\n",
       " 'unlink',\n",
       " 'urandom',\n",
       " 'utime',\n",
       " 'waitpid',\n",
       " 'walk',\n",
       " 'write']"
      ]
     },
     "execution_count": 69,
     "metadata": {},
     "output_type": "execute_result"
    }
   ],
   "source": [
    "dir(os)"
   ]
  },
  {
   "cell_type": "code",
   "execution_count": 70,
   "metadata": {},
   "outputs": [],
   "source": [
    "import sys"
   ]
  },
  {
   "cell_type": "code",
   "execution_count": 71,
   "metadata": {},
   "outputs": [
    {
     "data": {
      "text/plain": [
       "['C:\\\\Users\\\\praveen\\\\anaconda3\\\\lib\\\\site-packages\\\\ipykernel_launcher.py',\n",
       " '-f',\n",
       " 'C:\\\\Users\\\\praveen\\\\AppData\\\\Roaming\\\\jupyter\\\\runtime\\\\kernel-d30d2be2-f512-4198-9469-3959985c62bf.json']"
      ]
     },
     "execution_count": 71,
     "metadata": {},
     "output_type": "execute_result"
    }
   ],
   "source": [
    "sys.argv"
   ]
  },
  {
   "cell_type": "code",
   "execution_count": 72,
   "metadata": {},
   "outputs": [
    {
     "data": {
      "text/plain": [
       "['C:\\\\Users\\\\praveen\\\\OneDrive\\\\Desktop\\\\Practice',\n",
       " 'C:\\\\Users\\\\praveen\\\\anaconda3\\\\python38.zip',\n",
       " 'C:\\\\Users\\\\praveen\\\\anaconda3\\\\DLLs',\n",
       " 'C:\\\\Users\\\\praveen\\\\anaconda3\\\\lib',\n",
       " 'C:\\\\Users\\\\praveen\\\\anaconda3',\n",
       " '',\n",
       " 'C:\\\\Users\\\\praveen\\\\anaconda3\\\\lib\\\\site-packages',\n",
       " 'C:\\\\Users\\\\praveen\\\\anaconda3\\\\lib\\\\site-packages\\\\win32',\n",
       " 'C:\\\\Users\\\\praveen\\\\anaconda3\\\\lib\\\\site-packages\\\\win32\\\\lib',\n",
       " 'C:\\\\Users\\\\praveen\\\\anaconda3\\\\lib\\\\site-packages\\\\Pythonwin',\n",
       " 'C:\\\\Users\\\\praveen\\\\anaconda3\\\\lib\\\\site-packages\\\\IPython\\\\extensions',\n",
       " 'C:\\\\Users\\\\praveen\\\\.ipython']"
      ]
     },
     "execution_count": 72,
     "metadata": {},
     "output_type": "execute_result"
    }
   ],
   "source": [
    "sys.path"
   ]
  },
  {
   "cell_type": "code",
   "execution_count": 73,
   "metadata": {},
   "outputs": [
    {
     "data": {
      "text/plain": [
       "'3.8.5 (default, Sep  3 2020, 21:29:08) [MSC v.1916 64 bit (AMD64)]'"
      ]
     },
     "execution_count": 73,
     "metadata": {},
     "output_type": "execute_result"
    }
   ],
   "source": [
    "sys.version"
   ]
  },
  {
   "cell_type": "code",
   "execution_count": 74,
   "metadata": {},
   "outputs": [
    {
     "data": {
      "text/plain": [
       "sys.version_info(major=3, minor=8, micro=5, releaselevel='final', serial=0)"
      ]
     },
     "execution_count": 74,
     "metadata": {},
     "output_type": "execute_result"
    }
   ],
   "source": [
    "sys.version_info"
   ]
  },
  {
   "cell_type": "code",
   "execution_count": 75,
   "metadata": {},
   "outputs": [],
   "source": [
    "import datetime\n"
   ]
  },
  {
   "cell_type": "code",
   "execution_count": 76,
   "metadata": {},
   "outputs": [],
   "source": [
    "d=datetime.datetime.now()"
   ]
  },
  {
   "cell_type": "code",
   "execution_count": 77,
   "metadata": {},
   "outputs": [
    {
     "data": {
      "text/plain": [
       "datetime.datetime(2021, 7, 14, 2, 25, 50, 356721)"
      ]
     },
     "execution_count": 77,
     "metadata": {},
     "output_type": "execute_result"
    }
   ],
   "source": [
    "d"
   ]
  },
  {
   "cell_type": "code",
   "execution_count": 78,
   "metadata": {},
   "outputs": [
    {
     "data": {
      "text/plain": [
       "datetime.datetime(2021, 7, 14, 2, 26, 12, 688171)"
      ]
     },
     "execution_count": 78,
     "metadata": {},
     "output_type": "execute_result"
    }
   ],
   "source": [
    "d.today()"
   ]
  },
  {
   "cell_type": "code",
   "execution_count": 79,
   "metadata": {},
   "outputs": [
    {
     "data": {
      "text/plain": [
       "datetime.date(2021, 11, 11)"
      ]
     },
     "execution_count": 79,
     "metadata": {},
     "output_type": "execute_result"
    }
   ],
   "source": [
    "dat=datetime.date(2021,11,11)\n",
    "dat"
   ]
  },
  {
   "cell_type": "code",
   "execution_count": null,
   "metadata": {},
   "outputs": [],
   "source": []
  }
 ],
 "metadata": {
  "kernelspec": {
   "display_name": "Python 3",
   "language": "python",
   "name": "python3"
  },
  "language_info": {
   "codemirror_mode": {
    "name": "ipython",
    "version": 3
   },
   "file_extension": ".py",
   "mimetype": "text/x-python",
   "name": "python",
   "nbconvert_exporter": "python",
   "pygments_lexer": "ipython3",
   "version": "3.8.8"
  }
 },
 "nbformat": 4,
 "nbformat_minor": 4
}
